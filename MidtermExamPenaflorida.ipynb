{
  "nbformat": 4,
  "nbformat_minor": 0,
  "metadata": {
    "colab": {
      "name": "MidtermExamPenaflorida.ipynb",
      "provenance": [],
      "authorship_tag": "ABX9TyMG0/fsp6pxQr0QoVB6o3jm",
      "include_colab_link": true
    },
    "kernelspec": {
      "name": "python3",
      "display_name": "Python 3"
    },
    "language_info": {
      "name": "python"
    }
  },
  "cells": [
    {
      "cell_type": "markdown",
      "metadata": {
        "id": "view-in-github",
        "colab_type": "text"
      },
      "source": [
        "<a href=\"https://colab.research.google.com/github/penafloridalorenzo/OOP-58001/blob/main/MidtermExamPenaflorida.ipynb\" target=\"_parent\"><img src=\"https://colab.research.google.com/assets/colab-badge.svg\" alt=\"Open In Colab\"/></a>"
      ]
    },
    {
      "cell_type": "code",
      "execution_count": 12,
      "metadata": {
        "colab": {
          "base_uri": "https://localhost:8080/"
        },
        "id": "QLvT8edDX_m5",
        "outputId": "0c3e7d34-108e-4051-f526-9b6a0cf56a8b"
      },
      "outputs": [
        {
          "output_type": "stream",
          "name": "stdout",
          "text": [
            "Enter the temperature in Celsius: 100\n",
            "Enter the temperature in Kelvin: 500\n",
            "Enter the temperature in Fahrenheit: 50\n",
            "10.0 Fahrenheit to Celcius\n",
            "226.85000000000002 Kelvin to Celcius\n",
            "373.15 Celsius to Kelvin\n",
            "212.0 Celsius to Fahrenheit\n"
          ]
        }
      ],
      "source": [
        "def main():\n",
        "\n",
        "  \n",
        "\n",
        " class TemperatureConversion:\n",
        "\n",
        "  def __init__(self, temp=1):\n",
        "\n",
        "   self._temp = temp\n",
        "\n",
        " class FahrenheitToCelcius(TemperatureConversion):\n",
        "\n",
        "  def conversion(self):\n",
        "\n",
        "   return (self._temp - 32) * 5/9\n",
        "\n",
        " class KelvinToCelsius(TemperatureConversion):\n",
        "\n",
        "  def conversion(self):\n",
        "\n",
        "   return self._temp - 273.15\n",
        "\n",
        " class CelsiusToFahrenheit(TemperatureConversion):\n",
        "\n",
        "  def conversion(self):\n",
        "\n",
        "   return (self._temp * 9) / 5 + 32\n",
        "\n",
        " class CelsiusToKelvin(TemperatureConversion):\n",
        "\n",
        "  def conversion(self):\n",
        "\n",
        "   return self._temp + 273.15\n",
        "\n",
        " tempInCelsius = int(input(\"Enter the temperature in Celsius: \"))\n",
        " tempInKelvin = int(input(\"Enter the temperature in Kelvin: \"))\n",
        " tempInFahrenheit = int(input(\"Enter the temperature in Fahrenheit: \"))\n",
        "\n",
        " convert = FahrenheitToCelcius(tempInFahrenheit)\n",
        "\n",
        " print(str(convert.conversion()) + \" Fahrenheit to Celcius\")\n",
        "\n",
        " convert = KelvinToCelsius(tempInKelvin)\n",
        "\n",
        " print(str(convert.conversion()) + \" Kelvin to Celcius\")\n",
        "\n",
        " convert = CelsiusToKelvin(tempInCelsius)\n",
        "\n",
        " print(str(convert.conversion()) + \" Celsius to Kelvin\")\n",
        "\n",
        " convert = CelsiusToFahrenheit(tempInCelsius)\n",
        "\n",
        " print(str(convert.conversion()) + \" Celsius to Fahrenheit\")\n",
        "\n",
        "\n",
        "main()"
      ]
    }
  ]
}