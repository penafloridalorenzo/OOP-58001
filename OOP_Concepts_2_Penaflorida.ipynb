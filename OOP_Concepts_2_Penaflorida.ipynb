{
  "nbformat": 4,
  "nbformat_minor": 0,
  "metadata": {
    "colab": {
      "name": "OOP Concepts 2 Penaflorida.ipynb",
      "provenance": [],
      "authorship_tag": "ABX9TyOeuDtH1562PZwZndRq9Owq",
      "include_colab_link": true
    },
    "kernelspec": {
      "name": "python3",
      "display_name": "Python 3"
    },
    "language_info": {
      "name": "python"
    }
  },
  "cells": [
    {
      "cell_type": "markdown",
      "metadata": {
        "id": "view-in-github",
        "colab_type": "text"
      },
      "source": [
        "<a href=\"https://colab.research.google.com/github/penafloridalorenzo/OOP-58001/blob/main/OOP_Concepts_2_Penaflorida.ipynb\" target=\"_parent\"><img src=\"https://colab.research.google.com/assets/colab-badge.svg\" alt=\"Open In Colab\"/></a>"
      ]
    },
    {
      "cell_type": "markdown",
      "source": [
        "# Classes with multiple objects"
      ],
      "metadata": {
        "id": "K_PnJGrTj7tF"
      }
    },
    {
      "cell_type": "code",
      "source": [
        "class Birds:\n",
        "  def __init__ (self, bird_name):\n",
        "    self.bird_name = bird_name\n",
        "  \n",
        "  def flying_birds (self):\n",
        "    print (f\"{self.bird_name} flies above the clouds\")\n",
        "  def non_flying_birds (self):\n",
        "    print (f\"{self.bird_name} is the national bird of the Philippines\")\n",
        "\n",
        "vulture = Birds (\"Griffin Vulture\")\n",
        "crane = Birds (\"Common Crane\")\n",
        "emu = Birds (\"Emu\")\n",
        "\n",
        "vulture.flying_birds()\n",
        "crane.flying_birds()\n",
        "emu.non_flying_birds()"
      ],
      "metadata": {
        "colab": {
          "base_uri": "https://localhost:8080/"
        },
        "id": "KLaRWzfRj_W9",
        "outputId": "b52c5d4a-055b-4389-c308-963d45772b5f"
      },
      "execution_count": null,
      "outputs": [
        {
          "output_type": "stream",
          "name": "stdout",
          "text": [
            "Griffin Vulture flies above the clouds\n",
            "Common Crane flies above the clouds\n",
            "Emu is the national bird of the Philippines\n"
          ]
        }
      ]
    },
    {
      "cell_type": "markdown",
      "source": [
        "# Encapsulation"
      ],
      "metadata": {
        "id": "SaRJKiYqlcc4"
      }
    },
    {
      "cell_type": "code",
      "source": [
        "class foo:\n",
        "  def __init__ (self, a, b):\n",
        "    self.a = a\n",
        "    self.b = b\n",
        "  \n",
        "  def add (self):\n",
        "    return self.a + self.b\n",
        "\n",
        "foo_object = foo (5, 8)\n",
        "\n",
        "foo_object.a = 9\n",
        "foo_object.add()"
      ],
      "metadata": {
        "colab": {
          "base_uri": "https://localhost:8080/"
        },
        "id": "Myvj25khliCY",
        "outputId": "2648d225-f3c9-4438-c27c-c740362a6a1b"
      },
      "execution_count": null,
      "outputs": [
        {
          "output_type": "execute_result",
          "data": {
            "text/plain": [
              "17"
            ]
          },
          "metadata": {},
          "execution_count": 2
        }
      ]
    },
    {
      "cell_type": "code",
      "source": [
        "class counter:\n",
        "  def __init__(self):\n",
        "    self.current = 0\n",
        "  def increment(self):\n",
        "    self.current += 1\n",
        "  def value(self):\n",
        "    return self.current\n",
        "  def reset(self):\n",
        "    self.current = 0\n",
        "\n",
        "counter = counter()\n",
        "\n",
        "counter.increment()\n",
        "counter.increment()\n",
        "counter.increment()\n",
        "\n",
        "print (counter.value())\n",
        "print (counter.reset())"
      ],
      "metadata": {
        "colab": {
          "base_uri": "https://localhost:8080/"
        },
        "id": "NyURRTGnmLFV",
        "outputId": "024a79ee-dad5-4483-ea0c-8561183e79b3"
      },
      "execution_count": null,
      "outputs": [
        {
          "output_type": "stream",
          "name": "stdout",
          "text": [
            "3\n",
            "None\n"
          ]
        }
      ]
    },
    {
      "cell_type": "markdown",
      "source": [
        "# Inheritance"
      ],
      "metadata": {
        "id": "crOMRedZmOjm"
      }
    },
    {
      "cell_type": "code",
      "source": [
        "class Person:\n",
        "  def __init__ (self,fname,sname):\n",
        "    self.fname = fname\n",
        "    self.sname = sname\n",
        "  def printname (self):\n",
        "    print(self.fname, self.sname)\n",
        "\n",
        "x = Person(\"Adobong\",\"Manok\")\n",
        "x.printname()\n",
        "\n",
        "class Teacher(Person):\n",
        "  pass\n",
        "\n",
        "x = Teacher(\"Tinolang\",\"Manok\")\n",
        "x.printname()"
      ],
      "metadata": {
        "colab": {
          "base_uri": "https://localhost:8080/"
        },
        "id": "K329YZ18mSis",
        "outputId": "2a59fbec-3e22-485f-bc06-6714596acd7e"
      },
      "execution_count": null,
      "outputs": [
        {
          "output_type": "stream",
          "name": "stdout",
          "text": [
            "Adobong Manok\n",
            "Tinolang Manok\n"
          ]
        }
      ]
    },
    {
      "cell_type": "markdown",
      "source": [
        "# Polymorphism"
      ],
      "metadata": {
        "id": "3bEwXUKFmtxY"
      }
    },
    {
      "cell_type": "code",
      "source": [
        "class RegularPolygon:\n",
        "    def __init__ (self, side):\n",
        "        self._side = side\n",
        "class Square (RegularPolygon):\n",
        "    def area (self):\n",
        "        return self._side * self._side\n",
        "class EquilateralTriangle (RegularPolygon):\n",
        "    def area (self):\n",
        "        return self._side * self._side * 0.433\n",
        "\n",
        "obj1 = Square(4)\n",
        "obj2 = EquilateralTriangle(3)\n",
        "\n",
        "print (obj1.area())\n",
        "print (obj2.area())"
      ],
      "metadata": {
        "colab": {
          "base_uri": "https://localhost:8080/"
        },
        "id": "OVegSSxwmxP_",
        "outputId": "9395d2eb-11a6-413c-ff73-eb89cbfc3078"
      },
      "execution_count": null,
      "outputs": [
        {
          "output_type": "stream",
          "name": "stdout",
          "text": [
            "16\n",
            "3.897\n"
          ]
        }
      ]
    },
    {
      "cell_type": "markdown",
      "source": [
        "Class with Multiple Objects Application\n",
        "* Create a Python program that displays the name of 3 students (Student 1, Student 2, Student 3) and their grades\n",
        "* Create a class name \"Person\" and attributes - std1, std2, std3, pre, mid, fin\n",
        "* Compute for the average grade of each term using Grade() method\n",
        "* Information about student's grades must be hidden from others\n"
      ],
      "metadata": {
        "id": "ZSXMvYiwk0mu"
      }
    },
    {
      "cell_type": "code",
      "execution_count": null,
      "metadata": {
        "colab": {
          "base_uri": "https://localhost:8080/"
        },
        "id": "KMWh5Gnakmoa",
        "outputId": "aa0d5fbb-0433-459b-ec0a-c484ee86ca52"
      },
      "outputs": [
        {
          "output_type": "stream",
          "name": "stdout",
          "text": [
            "Choose a student to view his/her grade: Person2\n",
            "Coco 's average grade is 27.3 in prelims\n",
            "Coco 's average grade is 22.5 in midterms\n",
            "Coco 's average grade is 37.2 in finals\n"
          ]
        }
      ],
      "source": [
        "import random\n",
        "\n",
        "class Person:\n",
        "  def __init__ (self, student, pl, mt, fnls):\n",
        "    self.student = student\n",
        "    self.pl = pl *0.30\n",
        "    self.mt = mt *0.30\n",
        "    self.fnls = fnls *0.40\n",
        "\n",
        "  def Grade (self):\n",
        "    print (self.student, \"'s average grade is\", self.pl, \"in prelims\")\n",
        "    print (self.student, \"'s average grade is\", self.mt, \"in midterms\")\n",
        "    print (self.student, \"'s average grade is\", self.fnls, \"in finals\")\n",
        "\n",
        "std1 = Person (\"Yulay\", random.randint(70,99), random.randint(70,99), random.randint(70,99))\n",
        "std2 = Person (\"Coco\", random.randint(70,99), random.randint(70,99), random.randint(70,99))\n",
        "std3 = Person (\"Dingdong\", random.randint(70,99), random.randint(70,99), random.randint(70,99))\n",
        "\n",
        "x = input(str(\"Choose a student to view his/her grade: \"))\n",
        "\n",
        "if x == \"Person1\":\n",
        " std1.Grade()\n",
        "else:\n",
        "  if x == \"Person2\":\n",
        "    std2.Grade()\n",
        "  else:\n",
        "    if x == \"Person3\":\n",
        "      std3.Grade()\n",
        "    else:\n",
        "      print(\"Student not found.\")\n"
      ]
    }
  ]
}