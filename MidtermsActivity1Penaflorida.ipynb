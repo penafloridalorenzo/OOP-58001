{
  "nbformat": 4,
  "nbformat_minor": 0,
  "metadata": {
    "colab": {
      "name": "MidtermsActivity1Penaflorida.ipynb",
      "provenance": [],
      "authorship_tag": "ABX9TyOVurvaF8OdgkcJk5VIWas/",
      "include_colab_link": true
    },
    "kernelspec": {
      "name": "python3",
      "display_name": "Python 3"
    },
    "language_info": {
      "name": "python"
    }
  },
  "cells": [
    {
      "cell_type": "markdown",
      "metadata": {
        "id": "view-in-github",
        "colab_type": "text"
      },
      "source": [
        "<a href=\"https://colab.research.google.com/github/penafloridalorenzo/OOP-58001/blob/main/MidtermsActivity1Penaflorida.ipynb\" target=\"_parent\"><img src=\"https://colab.research.google.com/assets/colab-badge.svg\" alt=\"Open In Colab\"/></a>"
      ]
    },
    {
      "cell_type": "code",
      "execution_count": 6,
      "metadata": {
        "colab": {
          "base_uri": "https://localhost:8080/"
        },
        "id": "5BXh1ZbePJ2L",
        "outputId": "f37575b1-0bca-49ed-a63c-fb3e19f8c6d0"
      },
      "outputs": [
        {
          "output_type": "stream",
          "name": "stdout",
          "text": [
            "Choose a student to view his/her grade: Person3\n",
            "Student Alicia Eddison has a semestral grade of 92.5\n"
          ]
        }
      ],
      "source": [
        "class Person:\n",
        "  def __init__(self, name, pre, mid, fin):\n",
        "    self._name = name\n",
        "    self._pre = pre\n",
        "    self._mid = mid\n",
        "    self._fin = fin\n",
        "  def Grades(self):\n",
        "     return print(\"Student\", self._name, \"has a semestral grade of\", self._pre*.30 + self._mid*.30 + self._fin*.40)\n",
        "\n",
        "\n",
        "per1 = Person(\"Patricia Thomas\",88,83,89) \n",
        "\n",
        "per2 = Person(\"Anthony Thompson\",92,94,91)\n",
        "\n",
        "per3 = Person(\"Alicia Eddison\",87,96,94)\n",
        "\n",
        "x = input(str(\"Choose a student to view his/her grade: \"))\n",
        "\n",
        "if x == \"Person1\":\n",
        "  per1.Grades()\n",
        "else:\n",
        "  if x == \"Person2\":\n",
        "    per2.Grades()\n",
        "  else:\n",
        "    if x == \"Person3\":\n",
        "      per3.Grades()\n",
        "    else:\n",
        "      print(\"Invalid Student\") "
      ]
    }
  ]
}