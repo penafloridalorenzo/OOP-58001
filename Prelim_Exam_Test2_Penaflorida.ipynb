{
  "nbformat": 4,
  "nbformat_minor": 0,
  "metadata": {
    "colab": {
      "name": "Prelim Exam Test2 Penaflorida.ipynb",
      "provenance": [],
      "authorship_tag": "ABX9TyPp+s/BxQgpHPxyksTKWSI7",
      "include_colab_link": true
    },
    "kernelspec": {
      "name": "python3",
      "display_name": "Python 3"
    },
    "language_info": {
      "name": "python"
    }
  },
  "cells": [
    {
      "cell_type": "markdown",
      "metadata": {
        "id": "view-in-github",
        "colab_type": "text"
      },
      "source": [
        "<a href=\"https://colab.research.google.com/github/penafloridalorenzo/OOP-58001/blob/main/Prelim_Exam_Test2_Penaflorida.ipynb\" target=\"_parent\"><img src=\"https://colab.research.google.com/assets/colab-badge.svg\" alt=\"Open In Colab\"/></a>"
      ]
    },
    {
      "cell_type": "markdown",
      "source": [
        "Write a Python displaying your full name, student number, age, and course."
      ],
      "metadata": {
        "id": "kpyiUdS7Mxc2"
      }
    },
    {
      "cell_type": "code",
      "execution_count": 7,
      "metadata": {
        "colab": {
          "base_uri": "https://localhost:8080/"
        },
        "id": "N_4Or_s0LQPb",
        "outputId": "65bca8fd-ae23-452f-b5ae-5a41b5f0edb9"
      },
      "outputs": [
        {
          "output_type": "stream",
          "name": "stdout",
          "text": [
            "('Lorenzo Archibald Espedido Penaflorida', '202112832', '19', 'BS CPE')\n"
          ]
        }
      ],
      "source": [
        "class student():                           \n",
        "  def __init__(self,name,studentNum,age,course):\n",
        "    self.name = name                \n",
        "    self.studentNum = studentNum\n",
        "    self.age = age\n",
        "    self.course = course\n",
        "\n",
        "  def me(self):\n",
        "    return self.name, self.studentNum, self.age, self.course\n",
        "  \n",
        "  def display(self):\n",
        "    print(self.me())\n",
        "\n",
        "me = student (\"Lorenzo Archibald Espedido Penaflorida\", \"202112832\", \"19\", \"BS CPE\")\n",
        "me.display()"
      ]
    }
  ]
}