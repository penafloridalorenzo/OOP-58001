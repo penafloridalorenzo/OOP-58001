{
  "nbformat": 4,
  "nbformat_minor": 0,
  "metadata": {
    "colab": {
      "name": "Penaflorida.ipynb",
      "provenance": [],
      "authorship_tag": "ABX9TyMzbKk4J1oGMNiY/hUt8mN7",
      "include_colab_link": true
    },
    "kernelspec": {
      "name": "python3",
      "display_name": "Python 3"
    },
    "language_info": {
      "name": "python"
    }
  },
  "cells": [
    {
      "cell_type": "markdown",
      "metadata": {
        "id": "view-in-github",
        "colab_type": "text"
      },
      "source": [
        "<a href=\"https://colab.research.google.com/github/penafloridalorenzo/OOP-58001/blob/main/PenafloridaLongQuiz1.ipynb\" target=\"_parent\"><img src=\"https://colab.research.google.com/assets/colab-badge.svg\" alt=\"Open In Colab\"/></a>"
      ]
    },
    {
      "cell_type": "markdown",
      "source": [
        "Instructions:\n",
        "\n",
        "* Write a Python program that asks the user to enter the radius of a circle and solve its area and perimeter.\n",
        "\n",
        "* Create a class name Circle allowing you to build a circle with radius and pi attributes.\n",
        "\n",
        "* Create a method Display() the perimeter and area using an instantiation of a class.\n",
        "\n",
        "* Create a Perimeter() method to calculate the perimeter of the circle and an Area() method to calculate the area of ​​the circle."
      ],
      "metadata": {
        "id": "BidPM_U6Mi7t"
      }
    },
    {
      "cell_type": "code",
      "execution_count": 2,
      "metadata": {
        "colab": {
          "base_uri": "https://localhost:8080/"
        },
        "id": "N4dXvyLFUPVR",
        "outputId": "b5db0acb-b126-4d07-cfeb-5e6e3f8d7b16"
      },
      "outputs": [
        {
          "output_type": "stream",
          "name": "stdout",
          "text": [
            "96\n",
            "The Perimeter of circle is 602.88\n",
            "The Area of circle is 28938.24\n"
          ]
        }
      ],
      "source": [
        "class Circle():\n",
        "  def __init__ (self, rad):\n",
        "    self.rad = int (rad)\n",
        "\n",
        "  def perimeter (self):\n",
        "    return 2 * pi * self.rad\n",
        "  \n",
        "  def area (self):\n",
        "    return pi * (self.rad ** 2)\n",
        "\n",
        "  def display (self):\n",
        "    print (\"The Perimeter of circle is\", self.perimeter())\n",
        "    print (\"The Area of circle is\", self.area())\n",
        "\n",
        "pi = 3.14\n",
        "circ = Circle (input())\n",
        "circ.display()"
      ]
    }
  ]
}