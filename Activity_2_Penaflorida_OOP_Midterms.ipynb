{
  "nbformat": 4,
  "nbformat_minor": 0,
  "metadata": {
    "colab": {
      "name": "Activity 2 Penaflorida OOP Midterms.ipynb",
      "provenance": [],
      "collapsed_sections": [],
      "authorship_tag": "ABX9TyMWcaUrQsVdGxMdb9ri0WVJ",
      "include_colab_link": true
    },
    "kernelspec": {
      "name": "python3",
      "display_name": "Python 3"
    },
    "language_info": {
      "name": "python"
    }
  },
  "cells": [
    {
      "cell_type": "markdown",
      "metadata": {
        "id": "view-in-github",
        "colab_type": "text"
      },
      "source": [
        "<a href=\"https://colab.research.google.com/github/penafloridalorenzo/OOP-58001/blob/main/Activity_2_Penaflorida_OOP_Midterms.ipynb\" target=\"_parent\"><img src=\"https://colab.research.google.com/assets/colab-badge.svg\" alt=\"Open In Colab\"/></a>"
      ]
    },
    {
      "cell_type": "markdown",
      "source": [
        "Class with Multiple Objects Application\n",
        "* Create a Python program that displays the name of 3 students (Student 1, Student 2, Student 3) and their grades\n",
        "* Create a class name \"Person\" and attributes - std1, std2, std3, pre, mid, fin\n",
        "* Compute for the average grade of each term using Grade() method\n",
        "* Information about student's grades must be hidden from others\n"
      ],
      "metadata": {
        "id": "ZSXMvYiwk0mu"
      }
    },
    {
      "cell_type": "code",
      "execution_count": 5,
      "metadata": {
        "colab": {
          "base_uri": "https://localhost:8080/"
        },
        "id": "KMWh5Gnakmoa",
        "outputId": "aa0d5fbb-0433-459b-ec0a-c484ee86ca52"
      },
      "outputs": [
        {
          "output_type": "stream",
          "name": "stdout",
          "text": [
            "Choose a student to view his/her grade: Person2\n",
            "Coco 's average grade is 27.3 in prelims\n",
            "Coco 's average grade is 22.5 in midterms\n",
            "Coco 's average grade is 37.2 in finals\n"
          ]
        }
      ],
      "source": [
        "import random\n",
        "\n",
        "class Person:\n",
        "  def __init__ (self, student, pl, mt, fnls):\n",
        "    self.student = student\n",
        "    self.pl = pl *0.30\n",
        "    self.mt = mt *0.30\n",
        "    self.fnls = fnls *0.40\n",
        "\n",
        "  def Grade (self):\n",
        "    print (self.student, \"'s average grade is\", self.pl, \"in prelims\")\n",
        "    print (self.student, \"'s average grade is\", self.mt, \"in midterms\")\n",
        "    print (self.student, \"'s average grade is\", self.fnls, \"in finals\")\n",
        "\n",
        "std1 = Person (\"Yulay\", random.randint(70,99), random.randint(70,99), random.randint(70,99))\n",
        "std2 = Person (\"Coco\", random.randint(70,99), random.randint(70,99), random.randint(70,99))\n",
        "std3 = Person (\"Dingdong\", random.randint(70,99), random.randint(70,99), random.randint(70,99))\n",
        "\n",
        "x = input(str(\"Choose a student to view his/her grade: \"))\n",
        "\n",
        "if x == \"Person1\":\n",
        " std1.Grade()\n",
        "else:\n",
        "  if x == \"Person2\":\n",
        "    std2.Grade()\n",
        "  else:\n",
        "    if x == \"Person3\":\n",
        "      std3.Grade()\n",
        "    else:\n",
        "      print(\"Student not found.\")\n"
      ]
    }
  ]
}